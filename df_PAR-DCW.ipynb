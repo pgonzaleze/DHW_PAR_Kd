{
 "cells": [
  {
   "cell_type": "markdown",
   "metadata": {},
   "source": [
    "# Notebook to compute the Degree Lighting Week 'DLW' index "
   ]
  },
  {
   "cell_type": "code",
   "metadata": {},
   "outputs": [],
   "source": [
    "# load libraries\n",
    "import pandas as pd\n",
    "import numpy as np"
   ],
   "execution_count": null
  },
  {
   "cell_type": "code",
   "execution_count": null,
   "metadata": {},
   "outputs": [],
   "source": [
    "# For SeaWiFis and modis (1998-2017)\n",
    "# Import file with processed data in .h5 format and open it as a dataframe 'df'\n",
    "## NOTE: This data can be avoided if a dtaframe is already created ##\n",
    "import pandas as pd\n",
    "with pd.HDFStore('df_PAR.h5','r') as input:\n",
    "    df_PAR=input.get('df_PAR')"
   ]
  },
  {
   "cell_type": "code",
   "execution_count": null,
   "metadata": {},
   "outputs": [],
   "source": [
    "df_PAR.head()"
   ]
  },
  {
   "cell_type": "code",
   "execution_count": null,
   "metadata": {},
   "outputs": [],
   "source": [
    "def arrange_df (df):\n",
    "    'This function reindex, sort_values, interpolate NaN´s and append the average of the week and average of month'\n",
    "    df = df.reindex(columns=['site_name','year','month','week','days','par'])\n",
    "    df = df.sort_values(by=['site_name','year','month','week','days'])\n",
    "    df=df.interpolate()\n",
    "    df['par_week'] = df.groupby(['site_name','year','month','week'])['par'].transform('mean')\n",
    "    df['par_month'] = df.groupby(['site_name','year','month'])['par'].transform('mean') \n",
    "    df['90th_percentile'] = df.groupby(['site_name','year','month'])['par'].transform(lambda x: x.drop_duplicates().quantile(0.9))\n",
    "\n",
    "    ## Compute diff metrics of anomalies for sensitivity analysis\n",
    "\n",
    "    #df['par_Mclim'] = df.groupby(['site_name','month'])['par'].transform('mean')\n",
    "    df['par_Wclim'] = df.groupby(['site_name','week'])['par'].transform('mean')\n",
    "    df['M_anomaly'] = df['par_month'] - df['par_Mclim']  \n",
    "    df['90_anomaly'] = df['par_week'] - df['90th_percentile'] \n",
    "    df['W_anomaly'] = df['par_week'] - df['par_Wclim']  \n",
    "    return df"
   ]
  },
  {
   "cell_type": "code",
   "execution_count": null,
   "metadata": {},
   "outputs": [],
   "source": [
    "df_PAR = arrange_df(df_PAR)"
   ]
  },
  {
   "source": [
    "# Degree Lighting Week 'DLW'"
   ],
   "cell_type": "markdown",
   "metadata": {}
  },
  {
   "cell_type": "code",
   "metadata": {},
   "outputs": [],
   "source": [
    "# To compute DLW use one anomaly metric; in this case W_anomaly \n",
    "W_anomaly = df_PAR.groupby(['site_name','year','week'])['par_week'].mean()-df_PAR.groupby(['site_name','year','week'])['par_Wclim'].mean()"
   ],
   "execution_count": null
  },
  {
   "cell_type": "code",
   "metadata": {},
   "outputs": [],
   "source": [
    "W_anomaly = round(W_anomaly, 3)\n",
    "hit = W_anomaly < 0\n",
    "W_anomaly[hit] = 0"
   ],
   "execution_count": null
  },
  {
   "cell_type": "code",
   "metadata": {},
   "outputs": [],
   "source": [
    "W_anomaly = pd.DataFrame(W_anomaly)"
   ],
   "execution_count": null
  },
  {
   "cell_type": "code",
   "metadata": {},
   "outputs": [],
   "source": [
    "def DLW (df):\n",
    "     ' function to compute the DLW index; it sum only values < anomaly in a rolling window'\n",
    "    df = round(df.rolling(center=False,window=12).sum(),3) # Sum the values in the windows of \"X\" weeks; it can be edited to test different \"windows\"\n",
    "    df['site_name'] = df.index.get_level_values(level=0) # assign names and add new columns based on hiden levels\n",
    "    df['year'] = df.index.get_level_values(level=1)\n",
    "    df['week'] = df.index.get_level_values(level=2)\n",
    "    df.columns = ['DLW','site_name','year','week'] # Rename columns\n",
    "    df = df.reset_index(level=(0,1,2), drop=True) # Drop the hiden levels\n",
    "    df = df.reindex(columns = ['site_name','year','week','DLW']) # Re-order the columns \n",
    "    return df"
   ],
   "execution_count": null
  },
  {
   "cell_type": "code",
   "metadata": {},
   "outputs": [],
   "source": [
    "DLW = DLW(W_anomaly)"
   ],
   "execution_count": null
  },
  {
   "cell_type": "code",
   "metadata": {},
   "outputs": [],
   "source": [
    "DLW.to_csv('DLW.csv')"
   ],
   "execution_count": null
  }
 ],
 "metadata": {
  "anaconda-cloud": {},
  "kernelspec": {
   "name": "python37464bitbaseconda2bfc37613f1f4f60853ed4e315607ebc",
   "display_name": "Python 3.7.4 64-bit ('base': conda)"
  },
  "language_info": {
   "codemirror_mode": {
    "name": "ipython",
    "version": 3
   },
   "file_extension": ".py",
   "mimetype": "text/x-python",
   "name": "python",
   "nbconvert_exporter": "python",
   "pygments_lexer": "ipython3",
   "version": "3.7.4"
  },
  "metadata": {
   "interpreter": {
    "hash": "3bed7ae5c37a2f0124a3d1d7ebe9444ba8b4d4f68ec45ffe4ebc67430627124e"
   }
  }
 },
 "nbformat": 4,
 "nbformat_minor": 2
}