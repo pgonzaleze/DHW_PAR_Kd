{
 "cells": [
  {
   "source": [
    "# Notebook to compute the DHW and DCW indices "
   ],
   "cell_type": "markdown",
   "metadata": {}
  },
  {
   "cell_type": "code",
   "execution_count": null,
   "metadata": {},
   "outputs": [],
   "source": [
    "# load libraries\n",
    "import pandas as pd\n",
    "import numpy as np"
   ]
  },
  {
   "cell_type": "code",
   "execution_count": null,
   "metadata": {},
   "outputs": [],
   "source": [
    "# Import file with processed data in .h5 format and open it as a dataframe 'df'\n",
    "## NOTE: This data can be avoided if a dtaframe is already created ##\n",
    "with pd.HDFStore('df_SST_CRW.h5','r') as input:\n",
    "    df_SST=input.get('df_SST_CRW')"
   ]
  },
  {
   "cell_type": "code",
   "execution_count": null,
   "metadata": {},
   "outputs": [],
   "source": [
    "# inspect data\n",
    "df_SST.head()"
   ]
  },
  {
   "cell_type": "code",
   "execution_count": null,
   "metadata": {},
   "outputs": [],
   "source": [
    "def arrange_df (df):\n",
    "    'This function reindex, sort_values, interpolate NaN´s and append the average of the week and average of month'\n",
    "    df = df.reindex(columns=['site_name','year','month','week','days','analysed_sst']) # Re-order by column starting by 'site_name'\n",
    "    df = df.sort_values(by=['site_name','year','month','week','days']) # Re-order in ascendent mode\n",
    "    df=df.interpolate() # interpolate missing values averaging the nearest values.\n",
    "    df['sst_week'] = df.groupby(['site_name','year','month','week'])['analysed_sst'].transform('mean') # add column of week value\n",
    "    df['sst_month'] = df.groupby(['site_name','year','month'])['analysed_sst'].transform('mean')\n",
    "    df['sst_clim'] = df[(df.year<=2005)].groupby(['site_name','month'])['analysed_sst'].transform('mean') # compute climatology from 1985-2005\n",
    "    df['MMmin'] = df.groupby(['site_name'])['sst_clim'].transform('min') #This gives the minimun climatology SST \n",
    "    df['MMMax'] = df.groupby(['site_name'])['sst_clim'].transform('max') #This gives the maximum climatology SST\n",
    "    return df"
   ]
  },
  {
   "cell_type": "code",
   "execution_count": null,
   "metadata": {},
   "outputs": [],
   "source": [
    "df_SST = arrange_df(df_SST) # apply function\n",
    "df_SST = df_SST.drop(columns=['sst_clim'])  # drop climatology "
   ]
  },
  {
   "cell_type": "markdown",
   "metadata": {},
   "source": [
    "# HotSpots\n",
    "## Use the MMMAx and MMmin to compute the HotSpot and ColdSpot respectively"
   ]
  },
  {
   "cell_type": "code",
   "execution_count": null,
   "metadata": {},
   "outputs": [],
   "source": [
    "def get_HotSpot (df):\n",
    "    HotSpot = df_SST.groupby(['site_name','year','week'])['sst_week'].mean()-df_SST.groupby(['site_name','year','week'])['MMMax'].mean()\n",
    "    return pd.DataFrame(HotSpot)"
   ]
  },
  {
   "cell_type": "code",
   "execution_count": null,
   "metadata": {},
   "outputs": [],
   "source": [
    "HotSpot = get_HotSpot(df_SST)"
   ]
  },
  {
   "cell_type": "markdown",
   "metadata": {},
   "source": [
    "## Only HotSpot positives and grater than 1 are going to be sum"
   ]
  },
  {
   "cell_type": "code",
   "execution_count": null,
   "metadata": {},
   "outputs": [],
   "source": [
    "# Dismiss values lower than 1 \n",
    "HotSpot = round(HotSpot, 3)\n",
    "hit = HotSpot < 1\n",
    "HotSpot[hit] = 0"
   ]
  },
  {
   "cell_type": "markdown",
   "metadata": {},
   "source": [
    "# Degree Heating Weeks"
   ]
  },
  {
   "cell_type": "code",
   "execution_count": null,
   "metadata": {},
   "outputs": [],
   "source": [
    "def DHW (df):\n",
    "    ' function to compute the DHW index; it sum only positive values 1°C > MMMax in a rolling 12 weeks window'\n",
    "    df = round(df.rolling(center=False,window=12).sum(),3) # Sum the values in the windows of \"two\" weeks\n",
    "    df['site_name'] = df.index.get_level_values(level=0) # assign new columns based on hiden levels\n",
    "    df['year'] = df.index.get_level_values(level=1)\n",
    "    df['week'] = df.index.get_level_values(level=2)\n",
    "    df.columns = ['DHW','site_name','year','week'] # Re-name the columns\n",
    "    df = df.reset_index(level=(0,1,2), drop=True) # Drop the hiden levels\n",
    "    df = df.reindex(columns = ['site_name','year','week','DHW']) # Re-order the columns \n",
    "    return df"
   ]
  },
  {
   "cell_type": "code",
   "execution_count": null,
   "metadata": {},
   "outputs": [],
   "source": [
    "DHW = DHW(HotSpot)"
   ]
  },
  {
   "cell_type": "markdown",
   "metadata": {},
   "source": [
    "# ColdSpots "
   ]
  },
  {
   "cell_type": "code",
   "execution_count": null,
   "metadata": {},
   "outputs": [],
   "source": [
    "# The cold spot is the difference of the month value and the minimum climatology\n",
    "def get_ColdSpot (df):\n",
    "    ColdSpot = df_SST.groupby(['site_name','year','week'])['sst_week'].mean()-df_SST.groupby(['site_name','year','week'])['MMmin'].mean()\n",
    "    return pd.DataFrame(ColdSpot)"
   ]
  },
  {
   "cell_type": "code",
   "execution_count": null,
   "metadata": {},
   "outputs": [],
   "source": [
    "ColdSpot = get_ColdSpot(df_SST)"
   ]
  },
  {
   "cell_type": "markdown",
   "metadata": {},
   "source": [
    "## Only ColdSpots negative and lower than 1°C are going to be sum"
   ]
  },
  {
   "cell_type": "code",
   "execution_count": null,
   "metadata": {},
   "outputs": [],
   "source": [
    "ColdSpot = round(ColdSpot, 2)\n",
    "hit = ColdSpot >= 0\n",
    "ColdSpot[hit] = 0"
   ]
  },
  {
   "cell_type": "markdown",
   "metadata": {},
   "source": [
    "# Degree Cooling Weeeks"
   ]
  },
  {
   "cell_type": "code",
   "execution_count": null,
   "metadata": {},
   "outputs": [],
   "source": [
    "def DCW (df):\n",
    "    ' function to compute the DCW index; it sum only values -1°C < MMmin in a rolling 12 weeks window'\n",
    "    df = round(df.rolling(center=False,window=3).sum(),3) # Sum the values in the windows of three months\n",
    "    df['site_name'] = df.index.get_level_values(level=0) # assign new columns based on hiden levels\n",
    "    df['year'] = df.index.get_level_values(level=1)\n",
    "    df['week'] = df.index.get_level_values(level=2)\n",
    "    df.columns = ['DCW','site_name','year','week'] # Rename the columns\n",
    "    df = df.reset_index(level=(0,1,2), drop=True) # Drop the hiden levels\n",
    "    df = df.reindex(columns = ['site_name','year','week','DCW']) # Re-order the columns \n",
    "    return df"
   ]
  },
  {
   "cell_type": "code",
   "execution_count": null,
   "metadata": {},
   "outputs": [],
   "source": [
    "DCW = DCW(ColdSpot)"
   ]
  },
  {
   "cell_type": "code",
   "execution_count": null,
   "metadata": {},
   "outputs": [],
   "source": [
    "table.to_csv('table_DCM.csv')"
   ]
  }
 ],
 "metadata": {
  "anaconda-cloud": {},
  "kernelspec": {
   "name": "python376jvsc74a57bd03f71bcf4079f0e07257118d373ab1ac71537af286b04ad3506191c41e8119b06",
   "display_name": "Python 3.7.6 64-bit ('bmped': virtualenv)"
  },
  "language_info": {
   "codemirror_mode": {
    "name": "ipython",
    "version": 3
   },
   "file_extension": ".py",
   "mimetype": "text/x-python",
   "name": "python",
   "nbconvert_exporter": "python",
   "pygments_lexer": "ipython3",
   "version": "3.7.6"
  },
  "metadata": {
   "interpreter": {
    "hash": "3bed7ae5c37a2f0124a3d1d7ebe9444ba8b4d4f68ec45ffe4ebc67430627124e"
   }
  }
 },
 "nbformat": 4,
 "nbformat_minor": 2
}