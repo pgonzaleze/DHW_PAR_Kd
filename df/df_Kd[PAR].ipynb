{
 "cells": [
  {
   "cell_type": "markdown",
   "metadata": {},
   "source": [
    "# Notebook to compute the Degree Lighting Weeks index at certain depth 'dDLW' index "
   ]
  },
  {
   "cell_type": "code",
   "execution_count": 1,
   "metadata": {},
   "outputs": [],
   "source": [
    "##### Open .CSV file as pandas dataframe\n",
    "import pandas as pd\n",
    "import csv "
   ]
  },
  {
   "cell_type": "code",
   "execution_count": 2,
   "metadata": {},
   "outputs": [],
   "source": [
    "df_PARd = pd.read_csv('PAR[Kd].csv')"
   ]
  },
  {
   "source": [
    "# Equation\n",
    "\n",
    "𝑃𝐴𝑅𝑑 = 𝑃𝐴𝑅 ∗ 𝑒^((−𝐾𝑑_490∗𝑑𝑒𝑝𝑡ℎ))\n"
   ],
   "cell_type": "markdown",
   "metadata": {}
  },
  {
   "cell_type": "code",
   "execution_count": null,
   "metadata": {},
   "outputs": [],
   "source": [
    "df_PARd.head()"
   ]
  },
  {
   "cell_type": "code",
   "execution_count": 5,
   "metadata": {},
   "outputs": [],
   "source": [
    "def arrange_df (df):\n",
    "    \n",
    "    'This function reindex, sort_values, interpolate NaN´s and append the average of the week and average of month'\n",
    "\n",
    "    df = df.reindex(columns=['site_name','year','month','week','days','PAR','Kd_490','depth2','depth3','depth5','depth_site','PARd','PARd2','PARd3','PARd5','PARsite'])\n",
    "    # df = df.sort_values(by=['site_name','year','month','week','days'])\n",
    "    # df = df.interpolate()\n",
    "\n",
    "    # Here is used 'PARsite', but can be used any other metric; e.g. df['PARd2'] = ... \n",
    "    df['PARdsite'] = df.groupby(['site_name','year','month','week','days'])['PARsite'].transform('mean')\n",
    "    df['PARdsite_week'] = df.groupby(['site_name','year','month','week'])['PARsite'].transform('mean')\n",
    "\n",
    "    # The anomaly can be computed using different approaches; here is used the 'weekly climatology'\n",
    "    \n",
    "    df['PARdsite_Wclim'] = df.groupby(['site_name','week'])['PARsite'].transform('mean')\n",
    "    df['PARdsite_anomaly'] = df['PARdsite'] - df['PARdsite_Wclim']\n",
    "    return df"
   ]
  },
  {
   "cell_type": "code",
   "execution_count": 6,
   "metadata": {},
   "outputs": [],
   "source": [
    "df_PARd = arrange_df(df_PARd)"
   ]
  },
  {
   "cell_type": "code",
   "execution_count": 7,
   "metadata": {},
   "outputs": [
    {
     "data": {
      "text/html": "<div>\n<style scoped>\n    .dataframe tbody tr th:only-of-type {\n        vertical-align: middle;\n    }\n\n    .dataframe tbody tr th {\n        vertical-align: top;\n    }\n\n    .dataframe thead th {\n        text-align: right;\n    }\n</style>\n<table border=\"1\" class=\"dataframe\">\n  <thead>\n    <tr style=\"text-align: right;\">\n      <th></th>\n      <th>site_name</th>\n      <th>year</th>\n      <th>month</th>\n      <th>week</th>\n      <th>days</th>\n      <th>PAR</th>\n      <th>Kd_490</th>\n      <th>depth2</th>\n      <th>depth3</th>\n      <th>depth5</th>\n      <th>depth_text</th>\n      <th>PARd</th>\n      <th>PARd2</th>\n      <th>PARd3</th>\n      <th>PARd5</th>\n      <th>PARsite</th>\n      <th>PARdsite</th>\n      <th>PARdsite_week</th>\n      <th>PARdsite_Wclim</th>\n      <th>PARdsite_anomaly</th>\n    </tr>\n  </thead>\n  <tbody>\n    <tr>\n      <th>0</th>\n      <td>CAN</td>\n      <td>1998</td>\n      <td>1</td>\n      <td>0</td>\n      <td>1</td>\n      <td>33.334000</td>\n      <td>0.078</td>\n      <td>2</td>\n      <td>3</td>\n      <td>5</td>\n      <td>3.0</td>\n      <td>30.832764</td>\n      <td>28.519210</td>\n      <td>26.379254</td>\n      <td>22.569014</td>\n      <td>26.379254</td>\n      <td>26.379254</td>\n      <td>26.052305</td>\n      <td>22.557205</td>\n      <td>3.822049</td>\n    </tr>\n    <tr>\n      <th>1</th>\n      <td>CAN</td>\n      <td>1998</td>\n      <td>1</td>\n      <td>0</td>\n      <td>2</td>\n      <td>32.917000</td>\n      <td>0.078</td>\n      <td>2</td>\n      <td>3</td>\n      <td>5</td>\n      <td>3.0</td>\n      <td>30.447054</td>\n      <td>28.162442</td>\n      <td>26.049257</td>\n      <td>22.286681</td>\n      <td>26.049257</td>\n      <td>26.049257</td>\n      <td>26.052305</td>\n      <td>22.557205</td>\n      <td>3.492052</td>\n    </tr>\n    <tr>\n      <th>2</th>\n      <td>CAN</td>\n      <td>1998</td>\n      <td>1</td>\n      <td>0</td>\n      <td>3</td>\n      <td>32.500000</td>\n      <td>0.079</td>\n      <td>2</td>\n      <td>3</td>\n      <td>5</td>\n      <td>3.0</td>\n      <td>30.031298</td>\n      <td>27.750118</td>\n      <td>25.642217</td>\n      <td>21.894601</td>\n      <td>25.642217</td>\n      <td>25.642217</td>\n      <td>26.052305</td>\n      <td>22.557205</td>\n      <td>3.085012</td>\n    </tr>\n    <tr>\n      <th>3</th>\n      <td>CAN</td>\n      <td>1998</td>\n      <td>1</td>\n      <td>0</td>\n      <td>4</td>\n      <td>33.129000</td>\n      <td>0.079</td>\n      <td>2</td>\n      <td>3</td>\n      <td>5</td>\n      <td>3.0</td>\n      <td>30.612518</td>\n      <td>28.287189</td>\n      <td>26.138492</td>\n      <td>22.318346</td>\n      <td>26.138492</td>\n      <td>26.138492</td>\n      <td>26.052305</td>\n      <td>22.557205</td>\n      <td>3.581287</td>\n    </tr>\n    <tr>\n      <th>4</th>\n      <td>CAN</td>\n      <td>1998</td>\n      <td>1</td>\n      <td>1</td>\n      <td>5</td>\n      <td>33.757999</td>\n      <td>0.080</td>\n      <td>2</td>\n      <td>3</td>\n      <td>5</td>\n      <td>3.0</td>\n      <td>31.162561</td>\n      <td>28.766670</td>\n      <td>26.554983</td>\n      <td>22.628664</td>\n      <td>26.554983</td>\n      <td>26.554983</td>\n      <td>26.783961</td>\n      <td>22.123984</td>\n      <td>4.430999</td>\n    </tr>\n  </tbody>\n</table>\n</div>",
      "text/plain": "  site_name  year  month  week  days        PAR  Kd_490  depth2  depth3  \\\n0       CAN  1998      1     0     1  33.334000   0.078       2       3   \n1       CAN  1998      1     0     2  32.917000   0.078       2       3   \n2       CAN  1998      1     0     3  32.500000   0.079       2       3   \n3       CAN  1998      1     0     4  33.129000   0.079       2       3   \n4       CAN  1998      1     1     5  33.757999   0.080       2       3   \n\n   depth5  depth_text       PARd      PARd2      PARd3      PARd5    PARsite  \\\n0       5         3.0  30.832764  28.519210  26.379254  22.569014  26.379254   \n1       5         3.0  30.447054  28.162442  26.049257  22.286681  26.049257   \n2       5         3.0  30.031298  27.750118  25.642217  21.894601  25.642217   \n3       5         3.0  30.612518  28.287189  26.138492  22.318346  26.138492   \n4       5         3.0  31.162561  28.766670  26.554983  22.628664  26.554983   \n\n    PARdsite  PARdsite_week  PARdsite_Wclim  PARdsite_anomaly  \n0  26.379254      26.052305       22.557205          3.822049  \n1  26.049257      26.052305       22.557205          3.492052  \n2  25.642217      26.052305       22.557205          3.085012  \n3  26.138492      26.052305       22.557205          3.581287  \n4  26.554983      26.783961       22.123984          4.430999  "
     },
     "execution_count": 7,
     "metadata": {},
     "output_type": "execute_result"
    }
   ],
   "source": [
    "df_PARd.head( )"
   ]
  },
  {
   "cell_type": "markdown",
   "metadata": {},
   "source": [
    "### To get the \"week anomaly\" the groupby function should be in week periods"
   ]
  },
  {
   "cell_type": "code",
   "execution_count": 18,
   "metadata": {},
   "outputs": [],
   "source": [
    "PARdsiteW_anomaly = df_PARd.groupby(['site_name','year','month','week'])['PARdsite_week'].mean()-df_PARd.groupby(['site_name','year','month','week'])['PARdsite_Wclim'].mean()"
   ]
  },
  {
   "cell_type": "code",
   "execution_count": 19,
   "metadata": {},
   "outputs": [
    {
     "data": {
      "text/plain": [
       "site_name  year  month  week\n",
       "CAN        1998  1      0       3.495100\n",
       "                        1       4.659977\n",
       "                        2       5.899450\n",
       "                        3       7.046994\n",
       "                        4       5.597439\n",
       "dtype: float64"
      ]
     },
     "execution_count": 19,
     "metadata": {},
     "output_type": "execute_result"
    }
   ],
   "source": [
    "PARdsiteW_anomaly.head()"
   ]
  },
  {
   "cell_type": "code",
   "execution_count": 20,
   "metadata": {},
   "outputs": [],
   "source": [
    "import numpy as np\n",
    "PARdsiteW_anomaly = round(PARdsiteW_anomaly, 3)\n",
    "hit = PARdsiteW_anomaly < 0\n",
    "PARdsiteW_anomaly[hit] = 0"
   ]
  },
  {
   "cell_type": "code",
   "execution_count": 21,
   "metadata": {},
   "outputs": [],
   "source": [
    "PARdsiteW_anomaly = pd.DataFrame(PARdsiteW_anomaly)"
   ]
  },
  {
   "cell_type": "code",
   "execution_count": 22,
   "metadata": {},
   "outputs": [],
   "source": [
    "def dDLW (df):\n",
    "    df = round(df.rolling(center=False,window=12).sum(),3) # Sum the values in the windows of \"twelve\" weeks\n",
    "    df['site_name'] = df.index.get_level_values(level=0) # assign names and add new columns based on hiden levels\n",
    "    df['year'] = df.index.get_level_values(level=1)\n",
    "    df['month'] = df.index.get_level_values(level=2)\n",
    "    df.columns = ['dDLW','site_name','year','month'] # Re-name the columns\n",
    "    df = df.reset_index(level=(0,1,2,3), drop=True) # Drop the hiden levels\n",
    "    df = df.reindex(columns = ['site_name','year','month','dDLW']) # Re-order the columns \n",
    "    return df"
   ]
  },
  {
   "cell_type": "code",
   "execution_count": 23,
   "metadata": {},
   "outputs": [],
   "source": [
    "dDLW = dDLW(PARdsiteW_anomaly)"
   ]
  },
  {
   "cell_type": "code",
   "execution_count": 24,
   "metadata": {},
   "outputs": [
    {
     "data": {
      "text/html": [
       "<div>\n",
       "<style scoped>\n",
       "    .dataframe tbody tr th:only-of-type {\n",
       "        vertical-align: middle;\n",
       "    }\n",
       "\n",
       "    .dataframe tbody tr th {\n",
       "        vertical-align: top;\n",
       "    }\n",
       "\n",
       "    .dataframe thead th {\n",
       "        text-align: right;\n",
       "    }\n",
       "</style>\n",
       "<table border=\"1\" class=\"dataframe\">\n",
       "  <thead>\n",
       "    <tr style=\"text-align: right;\">\n",
       "      <th></th>\n",
       "      <th>site_name</th>\n",
       "      <th>year</th>\n",
       "      <th>month</th>\n",
       "      <th>dDLW</th>\n",
       "    </tr>\n",
       "  </thead>\n",
       "  <tbody>\n",
       "    <tr>\n",
       "      <th>0</th>\n",
       "      <td>CAN</td>\n",
       "      <td>1998</td>\n",
       "      <td>1</td>\n",
       "      <td>NaN</td>\n",
       "    </tr>\n",
       "    <tr>\n",
       "      <th>1</th>\n",
       "      <td>CAN</td>\n",
       "      <td>1998</td>\n",
       "      <td>1</td>\n",
       "      <td>NaN</td>\n",
       "    </tr>\n",
       "    <tr>\n",
       "      <th>2</th>\n",
       "      <td>CAN</td>\n",
       "      <td>1998</td>\n",
       "      <td>1</td>\n",
       "      <td>NaN</td>\n",
       "    </tr>\n",
       "    <tr>\n",
       "      <th>3</th>\n",
       "      <td>CAN</td>\n",
       "      <td>1998</td>\n",
       "      <td>1</td>\n",
       "      <td>NaN</td>\n",
       "    </tr>\n",
       "    <tr>\n",
       "      <th>4</th>\n",
       "      <td>CAN</td>\n",
       "      <td>1998</td>\n",
       "      <td>1</td>\n",
       "      <td>NaN</td>\n",
       "    </tr>\n",
       "    <tr>\n",
       "      <th>5</th>\n",
       "      <td>CAN</td>\n",
       "      <td>1998</td>\n",
       "      <td>2</td>\n",
       "      <td>NaN</td>\n",
       "    </tr>\n",
       "    <tr>\n",
       "      <th>6</th>\n",
       "      <td>CAN</td>\n",
       "      <td>1998</td>\n",
       "      <td>2</td>\n",
       "      <td>NaN</td>\n",
       "    </tr>\n",
       "    <tr>\n",
       "      <th>7</th>\n",
       "      <td>CAN</td>\n",
       "      <td>1998</td>\n",
       "      <td>2</td>\n",
       "      <td>NaN</td>\n",
       "    </tr>\n",
       "    <tr>\n",
       "      <th>8</th>\n",
       "      <td>CAN</td>\n",
       "      <td>1998</td>\n",
       "      <td>2</td>\n",
       "      <td>NaN</td>\n",
       "    </tr>\n",
       "    <tr>\n",
       "      <th>9</th>\n",
       "      <td>CAN</td>\n",
       "      <td>1998</td>\n",
       "      <td>2</td>\n",
       "      <td>NaN</td>\n",
       "    </tr>\n",
       "    <tr>\n",
       "      <th>10</th>\n",
       "      <td>CAN</td>\n",
       "      <td>1998</td>\n",
       "      <td>3</td>\n",
       "      <td>NaN</td>\n",
       "    </tr>\n",
       "    <tr>\n",
       "      <th>11</th>\n",
       "      <td>CAN</td>\n",
       "      <td>1998</td>\n",
       "      <td>3</td>\n",
       "      <td>63.157</td>\n",
       "    </tr>\n",
       "    <tr>\n",
       "      <th>12</th>\n",
       "      <td>CAN</td>\n",
       "      <td>1998</td>\n",
       "      <td>3</td>\n",
       "      <td>67.668</td>\n",
       "    </tr>\n",
       "    <tr>\n",
       "      <th>13</th>\n",
       "      <td>CAN</td>\n",
       "      <td>1998</td>\n",
       "      <td>3</td>\n",
       "      <td>73.972</td>\n",
       "    </tr>\n",
       "    <tr>\n",
       "      <th>14</th>\n",
       "      <td>CAN</td>\n",
       "      <td>1998</td>\n",
       "      <td>3</td>\n",
       "      <td>77.749</td>\n",
       "    </tr>\n",
       "    <tr>\n",
       "      <th>15</th>\n",
       "      <td>CAN</td>\n",
       "      <td>1998</td>\n",
       "      <td>3</td>\n",
       "      <td>80.275</td>\n",
       "    </tr>\n",
       "    <tr>\n",
       "      <th>16</th>\n",
       "      <td>CAN</td>\n",
       "      <td>1998</td>\n",
       "      <td>4</td>\n",
       "      <td>84.211</td>\n",
       "    </tr>\n",
       "    <tr>\n",
       "      <th>17</th>\n",
       "      <td>CAN</td>\n",
       "      <td>1998</td>\n",
       "      <td>4</td>\n",
       "      <td>93.373</td>\n",
       "    </tr>\n",
       "    <tr>\n",
       "      <th>18</th>\n",
       "      <td>CAN</td>\n",
       "      <td>1998</td>\n",
       "      <td>4</td>\n",
       "      <td>98.712</td>\n",
       "    </tr>\n",
       "    <tr>\n",
       "      <th>19</th>\n",
       "      <td>CAN</td>\n",
       "      <td>1998</td>\n",
       "      <td>4</td>\n",
       "      <td>101.572</td>\n",
       "    </tr>\n",
       "  </tbody>\n",
       "</table>\n",
       "</div>"
      ],
      "text/plain": [
       "   site_name  year  month     dDLW\n",
       "0        CAN  1998      1      NaN\n",
       "1        CAN  1998      1      NaN\n",
       "2        CAN  1998      1      NaN\n",
       "3        CAN  1998      1      NaN\n",
       "4        CAN  1998      1      NaN\n",
       "5        CAN  1998      2      NaN\n",
       "6        CAN  1998      2      NaN\n",
       "7        CAN  1998      2      NaN\n",
       "8        CAN  1998      2      NaN\n",
       "9        CAN  1998      2      NaN\n",
       "10       CAN  1998      3      NaN\n",
       "11       CAN  1998      3   63.157\n",
       "12       CAN  1998      3   67.668\n",
       "13       CAN  1998      3   73.972\n",
       "14       CAN  1998      3   77.749\n",
       "15       CAN  1998      3   80.275\n",
       "16       CAN  1998      4   84.211\n",
       "17       CAN  1998      4   93.373\n",
       "18       CAN  1998      4   98.712\n",
       "19       CAN  1998      4  101.572"
      ]
     },
     "execution_count": 24,
     "metadata": {},
     "output_type": "execute_result"
    }
   ],
   "source": [
    "dDLW.to_csv('dDLWsite.csv')"
   ]
  },
  {
   "cell_type": "code",
   "execution_count": 25,
   "metadata": {},
   "outputs": [],
   "source": [
    "# This is an alternative to export the data as a bit more 'neat'\n",
    "\n",
    "table = pd.pivot_table(dDLW,index=[\"site_name\",\"year\",\"month\"],values=[\"dDLW\"])\n",
    "table = table.reindex(columns=[\"dDLW\"])  # reordering the index\n",
    "#table.to_csv('DLW.csv')\n",
    "table.to_csv('dDLWsite.csv')  # table with enterely dataset"
   ]
  },
  {
   "cell_type": "code",
   "execution_count": null,
   "metadata": {},
   "outputs": [],
   "source": []
  }
 ],
 "metadata": {
  "anaconda-cloud": {},
  "kernelspec": {
   "display_name": "Python 3",
   "language": "python",
   "name": "python3"
  },
  "language_info": {
   "codemirror_mode": {
    "name": "ipython",
    "version": 3
   },
   "file_extension": ".py",
   "mimetype": "text/x-python",
   "name": "python",
   "nbconvert_exporter": "python",
   "pygments_lexer": "ipython3",
   "version": "3.7.4"
  }
 },
 "nbformat": 4,
 "nbformat_minor": 2
}