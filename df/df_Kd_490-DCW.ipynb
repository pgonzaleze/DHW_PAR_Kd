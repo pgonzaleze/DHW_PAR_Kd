{
 "cells": [
  {
   "source": [
    "# Notebook to compute the Kd 490 anomaly "
   ],
   "cell_type": "markdown",
   "metadata": {}
  },
  {
   "cell_type": "code",
   "execution_count": null,
   "metadata": {},
   "outputs": [],
   "source": [
    "# load libraries\n",
    "import pandas as pd\n",
    "import numpy as np"
   ]
  },
  {
   "cell_type": "code",
   "execution_count": null,
   "metadata": {},
   "outputs": [],
   "source": [
    "# Import file with processed data in .h5 format and open it as a dataframe 'df'\n",
    "## NOTE: This data can be avoided if a dataframe is already created ##\n",
    "with pd.HDFStore('df_Kd_490.h5','r') as input:\n",
    "    df_Kd_490=input.get('df_Kd_490')"
   ]
  },
  {
   "cell_type": "code",
   "execution_count": null,
   "metadata": {},
   "outputs": [],
   "source": [
    "df_Kd_490.head(5)"
   ]
  },
  {
   "cell_type": "code",
   "execution_count": null,
   "metadata": {},
   "outputs": [],
   "source": [
    "def arrange_df (df):\n",
    "    'This function reindex, sort_values, interpolate NaN´s and append the average of the week and average of month'\n",
    "    df = df.reindex(columns=['site_name','year','month','week','days','Kd_490']) # Re-order by column starting by 'site_name'\n",
    "    df = df.sort_values(by=['site_name','year','month','week','days']) # Re-order in ascendent mode\n",
    "    df=df.interpolate() # interpolate missing values averaging the nearest values.\n",
    "    df['Kd_W'] = df.groupby(['site_name','year','month','week'])['Kd_490'].transform('mean') # add columns\n",
    "    df['Kd_M'] = df.groupby(['site_name','year','month'])['Kd_490'].transform('mean') \n",
    "    \n",
    "    # compute monthly and weekly climatology\n",
    "    df['Kd_Mclim'] = df.groupby(['site_name','month'])['Kd_490'].transform('mean')\n",
    "    df['Kd_Wclim'] = df.groupby(['site_name','week'])['Kd_490'].transform('mean')\n",
    "    \n",
    "    # here we computed the weekly anomaly\n",
    "    df['Kd_W_Anomaly'] = df['Kd_W'] - df ['Kd_Wclim']\n",
    "    return df"
   ]
  },
  {
   "cell_type": "code",
   "execution_count": null,
   "metadata": {},
   "outputs": [],
   "source": [
    "df_Kd_490 = arrange_df(df_Kd_490)"
   ]
  },
  {
   "cell_type": "code",
   "execution_count": null,
   "metadata": {},
   "outputs": [],
   "source": [
    "## Round values to 3 digits \n",
    "df_Kd_490['Kd_490'] = round(df_Kd_490['Kd_490'],3)\n",
    "df_Kd_490['Kd_M'] = round(df_Kd_490['Kd_M'],3)\n",
    "df_Kd_490['Kd_W'] = round(df_Kd_490['Kd_W'],3)\n",
    "df_Kd_490['Kd_Mclim'] = round(df_Kd_490['Kd_Mclim'],3)\n",
    "df_Kd_490['Kd_Wclim'] = round(df_Kd_490['Kd_Wclim'],3)\n",
    "df_Kd_490['Kd_W_Anomaly'] = round(df_Kd_490['Kd_W_Anomaly'],3)"
   ]
  },
  {
   "cell_type": "code",
   "execution_count": null,
   "metadata": {},
   "outputs": [],
   "source": [
    "df_Kd_490.to_csv('Kd_490.csv')"
   ]
  }
 ],
 "metadata": {
  "kernelspec": {
   "name": "python37464bitbaseconda2bfc37613f1f4f60853ed4e315607ebc",
   "display_name": "Python 3.7.4 64-bit ('base': conda)"
  },
  "language_info": {
   "codemirror_mode": {
    "name": "ipython",
    "version": 3
   },
   "file_extension": ".py",
   "mimetype": "text/x-python",
   "name": "python",
   "nbconvert_exporter": "python",
   "pygments_lexer": "ipython3",
   "version": "3.7.4"
  },
  "metadata": {
   "interpreter": {
    "hash": "3bed7ae5c37a2f0124a3d1d7ebe9444ba8b4d4f68ec45ffe4ebc67430627124e"
   }
  }
 },
 "nbformat": 4,
 "nbformat_minor": 2
}