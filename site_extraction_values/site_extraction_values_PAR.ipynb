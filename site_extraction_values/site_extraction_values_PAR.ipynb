{
 "cells": [
  {
   "cell_type": "markdown",
   "metadata": {},
   "source": [
    "# This notebook contains the script to retrieve satellite-based data for each site at given coordinates"
   ]
  },
  {
   "cell_type": "code",
   "execution_count": null,
   "metadata": {},
   "outputs": [],
   "source": [
    "## Load libraries\n",
    "from netCDF4 import Dataset as ds\n",
    "import numpy as np\n",
    "from e582utils.data_read import download\n",
    "import datetime\n",
    "import dateutil as du \n",
    "import parser\n",
    "import pytz\n",
    "import dateutil.parser \n",
    "import pandas as pd"
   ]
  },
  {
   "cell_type": "code",
   "execution_count": null,
   "metadata": {},
   "outputs": [],
   "source": [
    "# Add any desired site and it´s coordinates\n",
    "sites = {'Espíritu_Santo_BCS_MEX':{'lat': 24.428333, 'lon': -110.351111},\n",
    "         'Loreto_Danzante_BCS_MEX':{'lat': 25.816014, 'lon': -111.262158},\n",
    "         'Punta_Arenas_Ventana_BCS_MEX':{'lat': 24.043611, 'lon': -109.829167},\n",
    "         'Marietas_Islands_MEX':{'lat': 20.701389, 'lon': -105.5675},\n",
    "         'Isla_Gaviota_BCS_MEX':{'lat':24.286992, 'lon': -110.338742}, \n",
    "         'El_Portugues_BCS_MEX':{'lat':24.747378, 'lon':-110.678108},\n",
    "         'Cabo_Pulmo_BCS_MEX':{'lat':23.390555, 'lon':-109.416388},\n",
    "         'Isla_Coronado_BCS_MEX':{'lat':26.103709,'lon':-111.283726},\n",
    "         'Loreto_Isla_Carmen_BCS_MEX':{'lat':26.047666,'lon':-111.180986},\n",
    "         'La_Nevera_Malpelo_COL':{'lat':4.0025, 'lon': -81.611111},\n",
    "         'Middle_Keys_FL_USA':{'lat':24.82675, 'lon': -80.670567}, \n",
    "         'Upper_Keys_FL_USA':{'lat':24.90765, 'lon': -80.800156}, \n",
    "         'Lower_Keys_FL_USA':{'lat':25.180864, 'lon': -80.279053},\n",
    "         'Galapagos_ECU':{'lat':1.6755, 'lon':-91.9924}} "
   ]
  },
  {
   "cell_type": "code",
   "execution_count": null,
   "metadata": {},
   "outputs": [],
   "source": [
    "# Short names should match the \"sites\" written above \n",
    "sites_short = {'IES':'Espíritu_Santo_BCS_MEX',\n",
    "              'MAR':'Marietas_Islands_MEX',\n",
    "              'ELP':'El_Portugues_BCS_MEX',\n",
    "              'GAV':'Isla_Gaviota_BCS_MEX',\n",
    "              'PAV':'Punta_Arenas_Ventana_BCS_MEX',\n",
    "              'DAN':'Loreto_Danzante_BCS_MEX',\n",
    "              'CPU':'Cabo_Pulmo_BCS_MEX',\n",
    "              'COR':'Isla_Coronado_BCS_MEX',\n",
    "              'CAR':'Loreto_Isla_Carmen_BCS_MEX',\n",
    "              'MDK':'Middle_Keys_FL_USA',\n",
    "              'UPK':'Upper_Keys_FL_USA',\n",
    "              'MAL':'La_Nevera_Malpelo_COL',\n",
    "              'LWK':'Lower_Keys_FL_USA',\n",
    "              'GLP':'Galapagos_ECU'}"
   ]
  },
  {
   "cell_type": "code",
   "execution_count": null,
   "metadata": {},
   "outputs": [],
   "source": [
    "for short_name,long_name in sites_short.items():\n",
    "    sites_short[short_name]={'long_name':long_name}\n",
    "    sites_short[short_name].update(sites[long_name])\n",
    "sites_short"
   ]
  },
  {
   "cell_type": "markdown",
   "metadata": {},
   "source": [
    "# Functions"
   ]
  },
  {
   "cell_type": "code",
   "execution_count": null,
   "metadata": {},
   "outputs": [],
   "source": [
    "# This function provides the date of each grid cell: the_date\n",
    "import dateutil.parser \n",
    "def find_date(ncfilename):\n",
    "    with ds(ncfilename,'r') as ncdat:\n",
    "        start=getattr(ncdat,'time_coverage_start')\n",
    "        end=getattr(ncdat,'time_coverage_end') \n",
    "        start_dt=du.parser.parse(start)\n",
    "        end_dt=du.parser.parse(end)\n",
    "        interval=end_dt - start_dt\n",
    "        mid_dt=start_dt + interval/2.\n",
    "        mid_dt = datetime.datetime(mid_dt.year,mid_dt.month,mid_dt.day,tzinfo=pytz.utc)\n",
    "        return mid_dt"
   ]
  },
  {
   "cell_type": "code",
   "execution_count": null,
   "metadata": {},
   "outputs": [],
   "source": [
    "# This function returns the number of day; julian day\n",
    "def date_info(the_date):\n",
    "    year,month,day=the_date.year,the_date.month,the_date.day\n",
    "    start_of_year=datetime.datetime(year-1,12,31,tzinfo=pytz.utc)\n",
    "    days=(the_date - start_of_year).days\n",
    "    week=int(the_date.strftime('%W'))\n",
    "    return dict(days=days,week=week,month=month,year=year)"
   ]
  },
  {
   "cell_type": "code",
   "execution_count": null,
   "metadata": {},
   "outputs": [],
   "source": [
    "# This function provides the array of selected variable, lat and lon. In this case the variable is 'par' \n",
    "def par_lat_lon(infile): \n",
    "    with ds(infile,'r') as ncfile:\n",
    "        ncfile.set_auto_mask(False)\n",
    "        par=ncfile.variables['par'][...]\n",
    "        lat=ncfile.variables['lat'][...]\n",
    "        lon=ncfile.variables['lon'][...]\n",
    "        fill_value=ncfile.variables['par']._FillValue\n",
    "        hit = par == fill_value\n",
    "        par[hit] = np.nan \n",
    "        sat=getattr(ncfile,'platform')\n",
    "    return par,lat,lon,sat"
   ]
  },
  {
   "cell_type": "markdown",
   "metadata": {},
   "source": [
    "# Global loop"
   ]
  },
  {
   "cell_type": "code",
   "execution_count": null,
   "metadata": {},
   "outputs": [],
   "source": [
    "import glob, os\n",
    "from os.path import expanduser\n",
    "from pathlib import Path\n",
    "home = Path(expanduser(\"~\"))\n",
    "datapath = home / Path('E:/path...') # Path to the directory with .nc files\n",
    "all_files=list(datapath.glob('*nc')) # It returns a list of path with all the .nc´s\n",
    "data_list=[]\n",
    "for infile in all_files:\n",
    "    the_date=find_date(infile)# this line should gave this: datetime.datetime(2017, 3, 12, 0, 0, tzinfo=<UTC>)\n",
    "    par,lat,lon,sat=par_lat_lon(infile) # this would provide the array of \"lat-lon\" that are going to be used to get the_par values of each site \n",
    "    for site_name,site_dict in sites_short.items(): \n",
    "        date_dict=date_info(the_date)\n",
    "        #print(site_name)\n",
    "        site_lat,site_lon=site_dict['lat'],site_dict['lon']\n",
    "        lat_idx = np.abs(lat-site_lat).argmin()\n",
    "        lon_idx = np.abs(lon-site_lon).argmin()\n",
    "        the_par=par[lat_idx,lon_idx]\n",
    "        date_dict['par']=the_par\n",
    "        date_dict['site_name']=site_name\n",
    "        date_dict['sat']=sat\n",
    "        #print(site_name,the_par)\n",
    "        data_list.append(date_dict)"
   ]
  },
  {
   "cell_type": "code",
   "execution_count": null,
   "metadata": {},
   "outputs": [],
   "source": [
    "df=pd.DataFrame.from_records(data_list)\n",
    "df.columns\n",
    "par_vals=df['par'].values\n",
    "hit=par_vals < 0\n",
    "par_vals[hit]=np.nan\n",
    "df['par']=par_vals"
   ]
  },
  {
   "cell_type": "markdown",
   "metadata": {},
   "source": [
    "## Create a file \"df_PAR.h5\" to work on it"
   ]
  },
  {
   "cell_type": "code",
   "execution_count": null,
   "metadata": {},
   "outputs": [],
   "source": [
    "# BREAK and store the data (in df) in 'h5' format. \n",
    "with pd.HDFStore('df_PAR.h5','w') as outfile:  # Store the dataframe \n",
    "    outfile.put('df_PAR',df,format = 'table')"
   ]
  }
 ],
 "metadata": {
  "anaconda-cloud": {},
  "hide_input": false,
  "kernelspec": {
   "name": "python37464bitbaseconda2bfc37613f1f4f60853ed4e315607ebc",
   "display_name": "Python 3.7.4 64-bit ('base': conda)"
  },
  "language_info": {
   "codemirror_mode": {
    "name": "ipython",
    "version": 3
   },
   "file_extension": ".py",
   "mimetype": "text/x-python",
   "name": "python",
   "nbconvert_exporter": "python",
   "pygments_lexer": "ipython3",
   "version": "3.7.4"
  },
  "metadata": {
   "interpreter": {
    "hash": "3bed7ae5c37a2f0124a3d1d7ebe9444ba8b4d4f68ec45ffe4ebc67430627124e"
   }
  }
 },
 "nbformat": 4,
 "nbformat_minor": 2
}